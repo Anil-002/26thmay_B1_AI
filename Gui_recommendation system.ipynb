{
 "cells": [
  {
   "cell_type": "code",
   "execution_count": 2,
   "metadata": {},
   "outputs": [],
   "source": [
    "import pandas as pd\n",
    "import warnings \n",
    "import tkinter as tk\n",
    "\n",
    "warnings.filterwarnings('ignore')\n"
   ]
  },
  {
   "cell_type": "code",
   "execution_count": 2,
   "metadata": {
    "jupyter": {
     "source_hidden": true
    }
   },
   "outputs": [],
   "source": [
    "\n",
    "app=tk.Tk()\n",
    "app.title('recommdation system')\n",
    "app.geometry('350x200')\n",
    "\n",
    "tk.Label(app, text='Movie you watched').place(x=25,y=25)\n",
    "tk.Label(app, text='recommended for you').place(x=25,y=100)\n",
    "tk.Label(app, text='also try').place(x=25,y=125)\n",
    "         \n",
    "movie_var=tk.Variable(app)\n",
    "tk.Entry(app,textvariable=movie_var, width=28).place(x=150,y=25)\n",
    "\n",
    "recommend_var=tk.Variable(app)\n",
    "recommend_var.set(\"type movie name...\")\n",
    "tk.Label(app,textvariable=recommend_var).place(x=180,y=100)\n",
    "\n",
    "also_try_var=tk.Variable(app)\n",
    "also_try_var.set(\"type movie name...\")\n",
    "tk.Label(app,textvariable=also_try_var).place(x=180,y=125)\n",
    "\n",
    "def find_recommendation():\n",
    "    pass\n",
    "\n",
    "tk.Button(app, text='find Suggestion',command=find_recommendation).place(x=125,y=60)\n",
    "\n",
    "\n",
    "app.mainloop()\n",
    "\n"
   ]
  },
  {
   "cell_type": "code",
   "execution_count": 3,
   "metadata": {},
   "outputs": [],
   "source": [
    "cols = 'user_id item_id rating timestamp'.split()\n",
    "df= pd.read_csv('u.data',sep='\\t',names=cols)\n",
    "cols_movies=['item_id','title']+[str(i) for i in range(22)]\n",
    "movie_titles=pd.read_csv('u.item',sep='|',names=cols_movies)\n",
    "movie_titles=movie_titles[['item_id','title']]\n",
    "data=pd.merge(df,movie_titles,on='item_id')\n",
    "rating=pd.DataFrame(data.groupby('title')['rating'].mean())\n",
    "rating['count']=data['title'].value_counts()\n",
    "pivot_df=data.pivot_table(index='user_id',columns='title',values='rating')\n",
    "\n",
    "app=tk.Tk()\n",
    "app.title('recommdation system')\n",
    "app.geometry('450x300')\n",
    "app.config(bg='grey')\n",
    "\n",
    "\n",
    "\n",
    "tk.Label(text='Movie you watched',bg='grey',font=('magneto',10)).place(x=35,y=45)\n",
    "tk.Label(app, text='recommended for you',bg='grey',font=('Algerian',10)).place(x=25,y=130)\n",
    "tk.Label(app, text='also try',bg='grey',font=('Algerian',10)).place(x=25,y=165)\n",
    "         \n",
    "movie_var=tk.Variable(app)\n",
    "tk.Entry(app,textvariable=movie_var, width=28).place(x=230,y=45)\n",
    "\n",
    "recommend_var=tk.Variable(app)\n",
    "recommend_var.set(\"Please Type movie name First...\")\n",
    "tk.Label(app,textvariable=recommend_var,bg='grey',font=('forte',10)).place(x=250,y=130)\n",
    "\n",
    "also_try_var=tk.Variable(app)\n",
    "\n",
    "also_try_var.set(\"Please Type movie name First...\")\n",
    "tk.Label(app,textvariable=also_try_var,bg='grey',font=('forte',10)).place(x=250,y=163)\n",
    "\n",
    "def find_recommendation():\n",
    "    movie=movie_var.get().lower().strip()     #strip removed needless spaces\n",
    "    if movie:\n",
    "        try:\n",
    "            movie=movie_titles['title'][movie_titles['title'].apply(lambda x: movie in x.lower())].values[0]\n",
    "            movie_var.set(movie)\n",
    "        except IndexError:\n",
    "            recommend_var.set('movie not found')\n",
    "            also_try_var.set('movie not found')\n",
    "        else:\n",
    "            corr_df=pd.DataFrame(pivot_df.corrwith(pivot_df[movie]),columns=['Correlation'])\n",
    "            corr_df.dropna(inplace=True)\n",
    "            corr_df=corr_df.join(rating['count'])\n",
    "            recommend_var.set(corr_df[(corr_df['count']>200)&(corr_df['Correlation']>0.4)].sort_values(by='Correlation',ascending=False).index[1])\n",
    "            also_try_var.set(corr_df[corr_df['Correlation']>0.4].sort_values(by='Correlation',ascending=False).index[0])\n",
    "    \n",
    "tk.Button(app, text='Find Suggestion',command=find_recommendation,font=('forte',10),bg='white',fg='green').place(x=145,y=80,width=100,height=20)\n",
    "\n",
    "\n",
    "app.mainloop()"
   ]
  },
  {
   "cell_type": "code",
   "execution_count": 118,
   "metadata": {},
   "outputs": [],
   "source": [
    "movie='s'"
   ]
  },
  {
   "cell_type": "code",
   "execution_count": 36,
   "metadata": {},
   "outputs": [
    {
     "data": {
      "text/plain": [
       "'Star Wars (1977)'"
      ]
     },
     "execution_count": 36,
     "metadata": {},
     "output_type": "execute_result"
    }
   ],
   "source": [
    "movie_titles['title'][movie_titles['title'].apply(lambda x: movie in x.lower())].values[0]"
   ]
  },
  {
   "cell_type": "code",
   "execution_count": null,
   "metadata": {},
   "outputs": [],
   "source": []
  }
 ],
 "metadata": {
  "kernelspec": {
   "display_name": "Python 3",
   "language": "python",
   "name": "python3"
  },
  "language_info": {
   "codemirror_mode": {
    "name": "ipython",
    "version": 3
   },
   "file_extension": ".py",
   "mimetype": "text/x-python",
   "name": "python",
   "nbconvert_exporter": "python",
   "pygments_lexer": "ipython3",
   "version": "3.8.5"
  }
 },
 "nbformat": 4,
 "nbformat_minor": 4
}
